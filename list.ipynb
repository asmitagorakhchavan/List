{
 "cells": [
  {
   "cell_type": "markdown",
   "id": "75716280-21db-4b0b-9d0f-f09060a6525f",
   "metadata": {},
   "source": [
    "# List"
   ]
  },
  {
   "cell_type": "markdown",
   "id": "5bc9b9bc-f35c-4a25-aafd-61203bd96c5f",
   "metadata": {},
   "source": [
    " - In Python, a list is a built-in data type that stores an ordered collection of items.\n",
    " - It is mutable, meaning you can modify its elements.\n",
    " - Python provides several list methods that allow you to manipulate lists effectively."
   ]
  },
  {
   "cell_type": "markdown",
   "id": "97931147-0367-41ca-a606-7e169567e5f5",
   "metadata": {},
   "source": [
    "#### Common List Methods in Python\n",
    "Below are the most frequently used list methods, along with examples:"
   ]
  },
  {
   "cell_type": "markdown",
   "id": "f2cc66cd-cc8c-466d-a030-76163e15e7cd",
   "metadata": {},
   "source": [
    "### 1. append(item)\n",
    " - Adds an element to the end of the list."
   ]
  },
  {
   "cell_type": "code",
   "execution_count": 2,
   "id": "4e299bad-66ae-4163-bb51-af7fb5ad574d",
   "metadata": {},
   "outputs": [
    {
     "name": "stdout",
     "output_type": "stream",
     "text": [
      "[1, 2, 3, 4]\n"
     ]
    }
   ],
   "source": [
    "numbers = [1, 2, 3]\n",
    "numbers.append(4)\n",
    "print(numbers)"
   ]
  },
  {
   "cell_type": "markdown",
   "id": "a04bf311-dcd7-4015-9e47-5cf0713e4431",
   "metadata": {},
   "source": [
    "### 2. extend(iterable)\n",
    " - Adds all elements from an iterable (e.g., another list, tuple) to the list."
   ]
  },
  {
   "cell_type": "code",
   "execution_count": 3,
   "id": "0a1d9572-0b00-4e04-95c4-48ce32aee464",
   "metadata": {},
   "outputs": [
    {
     "name": "stdout",
     "output_type": "stream",
     "text": [
      "[1, 2, 3, 4, 5, 6]\n"
     ]
    }
   ],
   "source": [
    "a = [1, 2, 3]\n",
    "b = [4, 5, 6]\n",
    "a.extend(b)\n",
    "print(a)"
   ]
  },
  {
   "cell_type": "markdown",
   "id": "9edeeffe-6fb7-45bb-bb9d-8077f52dc150",
   "metadata": {},
   "source": [
    "### 3. insert(index, item)\n",
    " - Inserts an element at a specified position."
   ]
  },
  {
   "cell_type": "code",
   "execution_count": 4,
   "id": "468cdcbc-9372-4720-b593-7b99042c83da",
   "metadata": {},
   "outputs": [
    {
     "name": "stdout",
     "output_type": "stream",
     "text": [
      "['apple', 'orange', 'banana']\n"
     ]
    }
   ],
   "source": [
    "fruits = ['apple', 'banana']\n",
    "fruits.insert(1, 'orange')\n",
    "print(fruits)"
   ]
  },
  {
   "cell_type": "markdown",
   "id": "27a86a7b-dc52-4b5e-ade3-633193aa3523",
   "metadata": {},
   "source": [
    "### 4. remove(item)\n",
    " - Removes the first occurrence of a specified value."
   ]
  },
  {
   "cell_type": "code",
   "execution_count": 5,
   "id": "6bfe6ecc-5c18-4ba5-8b55-1b4a2c4838ac",
   "metadata": {},
   "outputs": [
    {
     "name": "stdout",
     "output_type": "stream",
     "text": [
      "['red', 'green', 'blue']\n"
     ]
    }
   ],
   "source": [
    "colors = ['red', 'blue', 'green', 'blue']\n",
    "colors.remove('blue')\n",
    "print(colors)"
   ]
  },
  {
   "cell_type": "markdown",
   "id": "61670a28-6e65-4c66-adba-700cec030bd4",
   "metadata": {},
   "source": [
    "### 5. pop(index)\n",
    " - Removes and returns an item at a specified index (or last item if index is omitted)."
   ]
  },
  {
   "cell_type": "code",
   "execution_count": 6,
   "id": "64c3f5f4-420a-4475-ac40-820633e6ec78",
   "metadata": {},
   "outputs": [
    {
     "name": "stdout",
     "output_type": "stream",
     "text": [
      "[10, 20, 40]\n"
     ]
    }
   ],
   "source": [
    "nums = [10, 20, 30, 40]\n",
    "popped = nums.pop(2)\n",
    "print(nums)"
   ]
  },
  {
   "cell_type": "code",
   "execution_count": 7,
   "id": "fa48ad91-5319-4168-94fd-43c7649462a4",
   "metadata": {},
   "outputs": [
    {
     "name": "stdout",
     "output_type": "stream",
     "text": [
      "[10, 20, 40]\n",
      "30\n"
     ]
    }
   ],
   "source": [
    "nums = [10, 20, 30, 40]\n",
    "popped = nums.pop(2)\n",
    "print(nums)  \n",
    "print(popped)  "
   ]
  },
  {
   "cell_type": "markdown",
   "id": "79e320b4-a17e-4eab-a530-50e69dd12f4b",
   "metadata": {},
   "source": [
    "### 6. index(item, start, end)\n",
    " - Returns the index of the first occurrence of the item."
   ]
  },
  {
   "cell_type": "code",
   "execution_count": 8,
   "id": "e7190d52-7e01-4055-807e-1ee892a2143f",
   "metadata": {},
   "outputs": [
    {
     "name": "stdout",
     "output_type": "stream",
     "text": [
      "2\n"
     ]
    }
   ],
   "source": [
    "letters = ['a', 'b', 'c', 'd']\n",
    "print(letters.index('c'))"
   ]
  },
  {
   "cell_type": "markdown",
   "id": "337d2c1f-4f72-4a4a-a453-33d6187a0881",
   "metadata": {},
   "source": [
    "### 7. count(item)\n",
    " - Counts how many times an element appears in the list."
   ]
  },
  {
   "cell_type": "code",
   "execution_count": 9,
   "id": "9a37b3c8-da37-423f-84c7-36299b5232e9",
   "metadata": {},
   "outputs": [
    {
     "name": "stdout",
     "output_type": "stream",
     "text": [
      "3\n"
     ]
    }
   ],
   "source": [
    "nums = [1, 2, 2, 3, 4, 2]\n",
    "print(nums.count(2)) "
   ]
  },
  {
   "cell_type": "markdown",
   "id": "8872bb45-082e-4609-b30a-f49f610903c5",
   "metadata": {},
   "source": [
    "### 8. sort(reverse=False, key=function)\n",
    " - Sorts the list in ascending order (or descending if reverse=True)."
   ]
  },
  {
   "cell_type": "code",
   "execution_count": 10,
   "id": "25931bd9-5d3a-4711-a988-67871791d5bb",
   "metadata": {},
   "outputs": [
    {
     "name": "stdout",
     "output_type": "stream",
     "text": [
      "[1, 2, 4, 9]\n"
     ]
    }
   ],
   "source": [
    "numbers = [4, 2, 9, 1]\n",
    "numbers.sort()\n",
    "print(numbers) "
   ]
  },
  {
   "cell_type": "code",
   "execution_count": 11,
   "id": "e5558419-bbf9-4ca9-9192-02ee9db8bdae",
   "metadata": {},
   "outputs": [
    {
     "name": "stdout",
     "output_type": "stream",
     "text": [
      "[9, 4, 2, 1]\n"
     ]
    }
   ],
   "source": [
    "numbers = [4,2,9,1]\n",
    "numbers.sort(reverse=True)\n",
    "print(numbers)"
   ]
  },
  {
   "cell_type": "code",
   "execution_count": 12,
   "id": "9d088e45-0552-45eb-8dc2-36f84778feeb",
   "metadata": {},
   "outputs": [
    {
     "name": "stdout",
     "output_type": "stream",
     "text": [
      "['kiwi', 'apple', 'banana']\n"
     ]
    }
   ],
   "source": [
    "#Sorting with a key function\n",
    "words = ['apple', 'banana', 'kiwi']\n",
    "words.sort(key=len)\n",
    "print(words) "
   ]
  },
  {
   "cell_type": "markdown",
   "id": "aaad861b-2d5b-4bba-8d6e-df49c8f85bd9",
   "metadata": {},
   "source": [
    "### 9. reverse()\n",
    " - Reverses the elements of the list in place."
   ]
  },
  {
   "cell_type": "code",
   "execution_count": 13,
   "id": "54b71ecf-e20b-442a-a700-e4ae77a62817",
   "metadata": {},
   "outputs": [
    {
     "name": "stdout",
     "output_type": "stream",
     "text": [
      "[4, 3, 2, 1]\n"
     ]
    }
   ],
   "source": [
    "nums = [1, 2, 3, 4]\n",
    "nums.reverse()\n",
    "print(nums) "
   ]
  },
  {
   "cell_type": "markdown",
   "id": "475d8784-b47e-4884-9b7a-6a7984f53bf3",
   "metadata": {},
   "source": [
    "### 10. copy()\n",
    " - Creates a shallow copy of the list."
   ]
  },
  {
   "cell_type": "code",
   "execution_count": 14,
   "id": "2ccf6dbc-29b7-4865-8e7a-64bd9b8679e6",
   "metadata": {},
   "outputs": [
    {
     "name": "stdout",
     "output_type": "stream",
     "text": [
      "[1, 2, 3]\n"
     ]
    }
   ],
   "source": [
    "original = [1, 2, 3]\n",
    "copy_list = original.copy()\n",
    "print(copy_list)"
   ]
  },
  {
   "cell_type": "markdown",
   "id": "95f9adae-c4f6-4b39-aed5-052f397abc19",
   "metadata": {},
   "source": [
    "### 11. clear()\n",
    " - Removes all elements from the list."
   ]
  },
  {
   "cell_type": "code",
   "execution_count": 15,
   "id": "706ed2bc-52cc-43b4-ac15-6009f36b7be5",
   "metadata": {},
   "outputs": [
    {
     "name": "stdout",
     "output_type": "stream",
     "text": [
      "[]\n"
     ]
    }
   ],
   "source": [
    "items = [1, 2, 3]\n",
    "items.clear()\n",
    "print(items) "
   ]
  },
  {
   "cell_type": "markdown",
   "id": "cf2c419f-8c80-400a-be25-b1324fa3bbaf",
   "metadata": {},
   "source": [
    "# Example Usage of Multiple List Methods"
   ]
  },
  {
   "cell_type": "code",
   "execution_count": 17,
   "id": "90b73041-0d06-4522-9c90-e2549f80ad67",
   "metadata": {},
   "outputs": [
    {
     "name": "stdout",
     "output_type": "stream",
     "text": [
      "[5, 6, 8, 10, 15]\n"
     ]
    }
   ],
   "source": [
    "my_list = [5, 3, 8, 6]\n",
    "my_list.append(10)\n",
    "my_list.insert(2, 15)\n",
    "my_list.remove(3)\n",
    "my_list.sort()\n",
    "print(my_list)"
   ]
  },
  {
   "cell_type": "code",
   "execution_count": null,
   "id": "a2a639bc-a74e-4879-a1ed-6cee1cecf1a1",
   "metadata": {},
   "outputs": [],
   "source": []
  },
  {
   "cell_type": "code",
   "execution_count": null,
   "id": "56931862-00bf-441d-8e48-6b2aba7d98ee",
   "metadata": {},
   "outputs": [],
   "source": []
  },
  {
   "cell_type": "markdown",
   "id": "e06f42cf-85e8-4378-b2e1-b7747b342d5b",
   "metadata": {},
   "source": [
    "# Indexing and Slicing in Lists"
   ]
  },
  {
   "cell_type": "markdown",
   "id": "bf2bc82d-4b93-4e72-a7dd-2a5c5659e76a",
   "metadata": {},
   "source": [
    "In Python, indexing and slicing allow you to access or modify elements in a list efficiently."
   ]
  },
  {
   "cell_type": "markdown",
   "id": "1d5905cd-3d02-4c42-973d-117dde091c1e",
   "metadata": {},
   "source": [
    "### Indexing in Lists\n",
    " - Indexing starts at 0 (first element).\n",
    " - Negative indexing (-1, -2, etc.) allows access from the end."
   ]
  },
  {
   "cell_type": "code",
   "execution_count": 19,
   "id": "a4bf95f1-980e-4077-811e-e0a02bc28f5b",
   "metadata": {},
   "outputs": [
    {
     "name": "stdout",
     "output_type": "stream",
     "text": [
      "apple\n",
      "cherry\n"
     ]
    }
   ],
   "source": [
    "#Example: Positive & Negative Indexing\n",
    "fruits = ['apple', 'banana', 'cherry', 'date']\n",
    "\n",
    "print(fruits[0])   \n",
    "print(fruits[2])   "
   ]
  },
  {
   "cell_type": "code",
   "execution_count": 20,
   "id": "759edb61-29f8-46ed-b3fa-657e91852e34",
   "metadata": {},
   "outputs": [
    {
     "name": "stdout",
     "output_type": "stream",
     "text": [
      "date\n",
      "banana\n"
     ]
    }
   ],
   "source": [
    "# Negative Indexing\n",
    "print(fruits[-1])  \n",
    "print(fruits[-3]) "
   ]
  },
  {
   "cell_type": "markdown",
   "id": "d38a1e4a-18b9-406d-b81d-1ef67bbbdec2",
   "metadata": {},
   "source": [
    "### Slicing in list"
   ]
  },
  {
   "cell_type": "markdown",
   "id": "d12cb5f4-5ea8-44ae-bbe1-8f97c36614b6",
   "metadata": {},
   "source": [
    "Slicing lets you extract a portion of a list by specifying start, stop, and step."
   ]
  },
  {
   "cell_type": "markdown",
   "id": "e75dce2e-4862-47e4-9393-2240b9131caa",
   "metadata": {},
   "source": [
    " - Basic Syntax:\n",
    "   \n",
    ">>list[start:stop:step]\n"
   ]
  },
  {
   "cell_type": "markdown",
   "id": "a5ec9dc9-4226-45da-b2d2-660ef59557c9",
   "metadata": {},
   "source": [
    " - start → Starting index (inclusive)\n",
    " - stop → Ending index (exclusive)\n",
    " - step → Step size (default is 1)"
   ]
  },
  {
   "cell_type": "code",
   "execution_count": 21,
   "id": "02eb28a4-b358-481a-be5b-cb9b74c00d9b",
   "metadata": {},
   "outputs": [],
   "source": [
    "old=[12,56,78,5,9,3,43,78]"
   ]
  },
  {
   "cell_type": "code",
   "execution_count": 22,
   "id": "d4cef462-d5fd-48e3-9e21-af1498c44e57",
   "metadata": {},
   "outputs": [
    {
     "data": {
      "text/plain": [
       "78"
      ]
     },
     "execution_count": 22,
     "metadata": {},
     "output_type": "execute_result"
    }
   ],
   "source": [
    "old[-1]"
   ]
  },
  {
   "cell_type": "code",
   "execution_count": 23,
   "id": "b820ad5f-baf6-4a72-8122-02aec135df57",
   "metadata": {},
   "outputs": [
    {
     "data": {
      "text/plain": [
       "[78, 5]"
      ]
     },
     "execution_count": 23,
     "metadata": {},
     "output_type": "execute_result"
    }
   ],
   "source": [
    "old[2:4:1]"
   ]
  },
  {
   "cell_type": "code",
   "execution_count": 24,
   "id": "66d14c86-c516-470d-a044-adf56e1e9a09",
   "metadata": {},
   "outputs": [
    {
     "data": {
      "text/plain": [
       "[5, 56]"
      ]
     },
     "execution_count": 24,
     "metadata": {},
     "output_type": "execute_result"
    }
   ],
   "source": [
    "old[3::-2]"
   ]
  },
  {
   "cell_type": "code",
   "execution_count": 25,
   "id": "64e02b8a-ac5a-4513-901e-28880e223c83",
   "metadata": {},
   "outputs": [
    {
     "data": {
      "text/plain": [
       "[5, 9, 3, 43, 78]"
      ]
     },
     "execution_count": 25,
     "metadata": {},
     "output_type": "execute_result"
    }
   ],
   "source": [
    "old[3:]"
   ]
  },
  {
   "cell_type": "code",
   "execution_count": null,
   "id": "9188fc23-2f23-43ab-bfe6-305ceb9ee6ef",
   "metadata": {},
   "outputs": [],
   "source": []
  },
  {
   "cell_type": "markdown",
   "id": "0433d3c9-4efa-416a-95f5-990b33960b2e",
   "metadata": {},
   "source": [
    "### Replacing Elements"
   ]
  },
  {
   "cell_type": "code",
   "execution_count": 26,
   "id": "959e159f-d737-4205-b2a5-a77d2a2057ed",
   "metadata": {},
   "outputs": [
    {
     "name": "stdout",
     "output_type": "stream",
     "text": [
      "[10, 99, 88, 40, 50]\n"
     ]
    }
   ],
   "source": [
    "nums = [10, 20, 30, 40, 50]\n",
    "nums[1:3] = [99, 88]  \n",
    "print(nums)"
   ]
  },
  {
   "cell_type": "markdown",
   "id": "e11e964c-7598-4716-9f8e-e2273dcafec2",
   "metadata": {},
   "source": [
    "### Deleting Elements"
   ]
  },
  {
   "cell_type": "code",
   "execution_count": 27,
   "id": "46967390-7fa0-42b0-9efb-d81b7177b447",
   "metadata": {},
   "outputs": [
    {
     "name": "stdout",
     "output_type": "stream",
     "text": [
      "[10, 50]\n"
     ]
    }
   ],
   "source": [
    "nums = [10, 20, 30, 40, 50]\n",
    "nums[1:4] = []  \n",
    "print(nums)"
   ]
  },
  {
   "cell_type": "markdown",
   "id": "fb5252b2-1625-4abd-969b-48befdbd08f2",
   "metadata": {},
   "source": [
    "## Special Slicing Cases"
   ]
  },
  {
   "cell_type": "markdown",
   "id": "ad813e95-6a43-4d71-ba2d-bf832bceaf7f",
   "metadata": {},
   "source": [
    "### Skipping Elements with Step"
   ]
  },
  {
   "cell_type": "code",
   "execution_count": 28,
   "id": "a2171696-a161-4b28-888f-8dc61f480d2d",
   "metadata": {},
   "outputs": [
    {
     "name": "stdout",
     "output_type": "stream",
     "text": [
      "['a', 'c', 'e']\n"
     ]
    }
   ],
   "source": [
    "letters = ['a', 'b', 'c', 'd', 'e', 'f']\n",
    "print(letters[::2])"
   ]
  },
  {
   "cell_type": "markdown",
   "id": "0d6507a8-1496-4233-bbb5-6ffb9284265a",
   "metadata": {},
   "source": [
    "### Reversing a List"
   ]
  },
  {
   "cell_type": "code",
   "execution_count": 29,
   "id": "1deb178c-db3c-46f6-8abc-9f3ed41f925f",
   "metadata": {},
   "outputs": [
    {
     "name": "stdout",
     "output_type": "stream",
     "text": [
      "['f', 'e', 'd', 'c', 'b', 'a']\n"
     ]
    }
   ],
   "source": [
    "letters = ['a', 'b', 'c', 'd', 'e', 'f']\n",
    "print(letters[::-1])"
   ]
  },
  {
   "cell_type": "code",
   "execution_count": null,
   "id": "1557ad23-0c0d-47f5-bade-e93744ea3c49",
   "metadata": {},
   "outputs": [],
   "source": []
  },
  {
   "cell_type": "code",
   "execution_count": null,
   "id": "2b7b07d8-d0dd-40d9-9a07-43fc54c9c386",
   "metadata": {},
   "outputs": [],
   "source": []
  },
  {
   "cell_type": "markdown",
   "id": "afe3653a-2dc7-4194-96f4-fe2e927d2cd2",
   "metadata": {},
   "source": [
    "# List Comprehension in Python"
   ]
  },
  {
   "cell_type": "markdown",
   "id": "12811ee4-4ea9-4241-8846-7c84afea42d2",
   "metadata": {},
   "source": [
    " - > List comprehension is a concise way to create lists in Python. It allows you to generate a new list by applying an expression to each element of an iterable (like a list or range), all in a single line of code."
   ]
  },
  {
   "cell_type": "markdown",
   "id": "7ec8dd03-4be8-42e8-9504-99e416c6c077",
   "metadata": {},
   "source": [
    " - Basic Syntax:-\n",
    "\n",
    "new_list = [expression for item in iterable if condition]"
   ]
  },
  {
   "cell_type": "markdown",
   "id": "8479b47a-a474-4fee-aee5-9a66ea1f2f2f",
   "metadata": {},
   "source": [
    " - expression → The operation to perform on each element.\n",
    " - item → Variable representing elements in the iterable.\n",
    " - iterable → The source of elements (e.g., a list, range, string, etc.).\n",
    " - condition (optional) → A filter that determines if an element should be included.\n"
   ]
  },
  {
   "cell_type": "markdown",
   "id": "6ec7e058-a7a0-41c9-9726-60a6c54ef7a5",
   "metadata": {},
   "source": [
    "#### Example 1: Creating a Simple List"
   ]
  },
  {
   "cell_type": "code",
   "execution_count": 30,
   "id": "0e3ae98a-7d84-4966-a93d-11fdbcee4f06",
   "metadata": {},
   "outputs": [
    {
     "name": "stdout",
     "output_type": "stream",
     "text": [
      "[0, 1, 4, 9, 16, 25, 36, 49, 64, 81]\n"
     ]
    }
   ],
   "source": [
    "#Create a list of squares of numbers from 0 to 9\n",
    "\n",
    "squares = [x**2 for x in range(10)]\n",
    "print(squares)"
   ]
  },
  {
   "cell_type": "markdown",
   "id": "ebff42d0-e4a9-45fb-b55b-f8785e4f55ce",
   "metadata": {},
   "source": [
    "#### Example 2: Filtering with Condition"
   ]
  },
  {
   "cell_type": "code",
   "execution_count": 31,
   "id": "19761fd0-1e84-4420-8d0a-18b03fbfa4e9",
   "metadata": {},
   "outputs": [
    {
     "name": "stdout",
     "output_type": "stream",
     "text": [
      "[0, 2, 4, 6, 8]\n"
     ]
    }
   ],
   "source": [
    "#Create a list of even numbers from 0 to 9\n",
    "\n",
    "evens = [x for x in range(10) if x % 2 == 0]\n",
    "print(evens)"
   ]
  },
  {
   "cell_type": "markdown",
   "id": "72c3b9ab-6e34-4b12-b84f-c9619b278d4e",
   "metadata": {},
   "source": [
    "#### Example 3: Applying Functions"
   ]
  },
  {
   "cell_type": "code",
   "execution_count": 32,
   "id": "0ada4bfd-5946-4ae9-adae-a4dbee368b51",
   "metadata": {},
   "outputs": [
    {
     "name": "stdout",
     "output_type": "stream",
     "text": [
      "['APPLE', 'BANANA', 'CHERRY']\n"
     ]
    }
   ],
   "source": [
    "#Convert a list of words to uppercase\n",
    "\n",
    "words = [\"apple\", \"banana\", \"cherry\"]\n",
    "uppercase_words = [word.upper() for word in words]\n",
    "print(uppercase_words)"
   ]
  },
  {
   "cell_type": "markdown",
   "id": "49d5265c-224b-4662-bf00-eda6c406a6d2",
   "metadata": {},
   "source": [
    "#### Example 4: Nested Loops in List Comprehension"
   ]
  },
  {
   "cell_type": "code",
   "execution_count": 33,
   "id": "9481ffee-3e94-4a71-adb1-b7748a55687a",
   "metadata": {},
   "outputs": [
    {
     "name": "stdout",
     "output_type": "stream",
     "text": [
      "[(0, 0), (0, 1), (1, 0), (1, 1), (2, 0), (2, 1)]\n"
     ]
    }
   ],
   "source": [
    "#Create a list of (x, y) pairs using two loops\n",
    "\n",
    "pairs = [(x, y) for x in range(3) for y in range(2)]\n",
    "print(pairs)"
   ]
  },
  {
   "cell_type": "markdown",
   "id": "1404351e-4731-4b23-affb-ca6c61658d52",
   "metadata": {},
   "source": [
    "#### Example 5: List Comprehension with if-else"
   ]
  },
  {
   "cell_type": "code",
   "execution_count": 34,
   "id": "87ae6144-20b1-4da1-ade9-d29a8ccd931c",
   "metadata": {},
   "outputs": [
    {
     "name": "stdout",
     "output_type": "stream",
     "text": [
      "['Odd', 'Even', 'Odd', 'Even', 'Odd']\n"
     ]
    }
   ],
   "source": [
    "#Replace even numbers with \"Even\" and odd numbers with \"Odd\"\n",
    "\n",
    "numbers = [1, 2, 3, 4, 5]\n",
    "labels = [\"Even\" if x % 2 == 0 else \"Odd\" for x in numbers]\n",
    "print(labels)"
   ]
  },
  {
   "cell_type": "markdown",
   "id": "6ea43dda-f633-4b03-b838-f59cbe8071ba",
   "metadata": {},
   "source": [
    "#### Example 6: Flattening a Nested List"
   ]
  },
  {
   "cell_type": "code",
   "execution_count": 35,
   "id": "22e047aa-2e78-4f3a-9c96-1ad63d489642",
   "metadata": {},
   "outputs": [
    {
     "name": "stdout",
     "output_type": "stream",
     "text": [
      "[1, 2, 3, 4, 5, 6, 7, 8, 9]\n"
     ]
    }
   ],
   "source": [
    "#Flatten a 2D list into a 1D list\n",
    "\n",
    "matrix = [[1, 2, 3], [4, 5, 6], [7, 8, 9]]\n",
    "flattened = [num for row in matrix for num in row]\n",
    "print(flattened)"
   ]
  },
  {
   "cell_type": "code",
   "execution_count": null,
   "id": "4368d7ad-0626-426c-a79c-9927abcad09e",
   "metadata": {},
   "outputs": [],
   "source": []
  },
  {
   "cell_type": "markdown",
   "id": "17ae5142-5d05-4f15-80d1-6555208fdaec",
   "metadata": {},
   "source": [
    "# Benefits of List Comprehension\n",
    "✅ Concise & Readable – Shorter than for loops\n",
    "\n",
    "✅ Faster Execution – Optimized and more efficient than regular loops\n",
    "\n",
    "✅ Less Code – Reduces unnecessary boilerplate"
   ]
  },
  {
   "cell_type": "code",
   "execution_count": null,
   "id": "7d933926-2e3d-403b-8e6a-f8d846f698c6",
   "metadata": {},
   "outputs": [],
   "source": []
  },
  {
   "cell_type": "code",
   "execution_count": null,
   "id": "a8f742a5-2887-45e5-b71a-c187f4c2d62b",
   "metadata": {},
   "outputs": [],
   "source": []
  },
  {
   "cell_type": "code",
   "execution_count": null,
   "id": "ab6c2b5f-49c6-4a0b-8e0a-9709c83273c0",
   "metadata": {},
   "outputs": [],
   "source": []
  }
 ],
 "metadata": {
  "kernelspec": {
   "display_name": "Python 3 (ipykernel)",
   "language": "python",
   "name": "python3"
  },
  "language_info": {
   "codemirror_mode": {
    "name": "ipython",
    "version": 3
   },
   "file_extension": ".py",
   "mimetype": "text/x-python",
   "name": "python",
   "nbconvert_exporter": "python",
   "pygments_lexer": "ipython3",
   "version": "3.13.1"
  }
 },
 "nbformat": 4,
 "nbformat_minor": 5
}
